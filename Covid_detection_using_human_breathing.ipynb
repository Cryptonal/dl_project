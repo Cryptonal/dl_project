{
  "nbformat": 4,
  "nbformat_minor": 0,
  "metadata": {
    "accelerator": "TPU",
    "colab": {
      "name": "COVID_Class_working.ipynb",
      "private_outputs": true,
      "provenance": [],
      "collapsed_sections": []
    },
    "kernelspec": {
      "display_name": "Python 3",
      "name": "python3"
    },
    "language_info": {
      "name": "python"
    }
  },
  "cells": [
    {
      "cell_type": "code",
      "metadata": {
        "id": "M41elDqDNEa6"
      },
      "source": [
        "! pip install -q kaggle"
      ],
      "execution_count": null,
      "outputs": []
    },
    {
      "cell_type": "code",
      "metadata": {
        "id": "Q2vIaeQFNjj9"
      },
      "source": [
        "from google.colab import files"
      ],
      "execution_count": null,
      "outputs": []
    },
    {
      "cell_type": "code",
      "metadata": {
        "id": "V2AdNrQHNkQy"
      },
      "source": [
        "files.upload()"
      ],
      "execution_count": null,
      "outputs": []
    },
    {
      "cell_type": "code",
      "metadata": {
        "id": "WgTl_nLQN9gn"
      },
      "source": [
        "! mkdir ~/.kaggle\n",
        "! cp kaggle.json ~/.kaggle/\n",
        "! chmod 600 ~/.kaggle/kaggle.json"
      ],
      "execution_count": null,
      "outputs": []
    },
    {
      "cell_type": "code",
      "metadata": {
        "id": "ZMg1j6ANOEMR"
      },
      "source": [
        "!kaggle datasets download -d ruchi798/covid19-pulmonary-abnormalities"
      ],
      "execution_count": null,
      "outputs": []
    },
    {
      "cell_type": "code",
      "metadata": {
        "id": "SbP5siq_OZeG"
      },
      "source": [
        "! mkdir spectrograms"
      ],
      "execution_count": null,
      "outputs": []
    },
    {
      "cell_type": "code",
      "metadata": {
        "id": "demezhj7OiWE"
      },
      "source": [
        "! unzip covid19-pulmonary-abnormalities.zip -d spectrograms"
      ],
      "execution_count": null,
      "outputs": []
    },
    {
      "cell_type": "code",
      "metadata": {
        "id": "Xxvyvi15OtQK"
      },
      "source": [
        "import numpy as np # linear algebra\n",
        "import pandas as pd # data processing, CSV file I/O (e.g. pd.read_csv)\n",
        "import os\n",
        "\n",
        "dir_data = {}\n",
        "\n",
        "for dirname, _, filenames in os.walk('./spectrograms/'):\n",
        "    \n",
        "    if dirname not in list(dir_data.keys()):\n",
        "        dir_data[dirname] = []\n",
        "    for filename in filenames:\n",
        "        dir_data[dirname].append(filename)\n",
        "        #os.path.join(dirname, )"
      ],
      "execution_count": null,
      "outputs": []
    },
    {
      "cell_type": "code",
      "metadata": {
        "id": "wArVy8KdOutV"
      },
      "source": [
        "import numpy as np # linear algebra\n",
        "import pandas as pd # data processing, CSV file I/O (e.g. pd.read_csv)\n",
        "import os\n",
        "import cv2\n",
        "from matplotlib import pyplot as plt\n",
        "import matplotlib.image as mpimg\n",
        "from PIL import Image\n",
        "import random\n",
        "import tensorflow as tf\n",
        "from tensorflow import keras\n",
        "from tensorflow.python.keras.preprocessing import image\n",
        "from tensorflow.keras.layers.experimental.preprocessing import Rescaling\n",
        "from tensorflow.python.keras.layers import *\n",
        "from tensorflow.python.keras.models import * \n",
        "from tensorflow.keras.callbacks import ModelCheckpoint, EarlyStopping\n",
        "from keras.utils.vis_utils import plot_model\n",
        "from sklearn.metrics import classification_report, confusion_matrix, accuracy_score\n",
        "from pathlib import Path\n",
        "from skimage.io import imread"
      ],
      "execution_count": null,
      "outputs": []
    },
    {
      "cell_type": "code",
      "metadata": {
        "id": "H71BpokXrTZu"
      },
      "source": [
        "def slice_images(image, IMG_WIDTH, IMG_HEIGHT, parts):\n",
        "  sliced_img_array = []\n",
        "  width = int(IMG_WIDTH/parts)\n",
        "  y = 0\n",
        "  for x in range(parts):\n",
        "    y = x*width\n",
        "    sliced_img_array.append(image[0:IMG_HEIGHT, y:y+width])\n",
        "  return sliced_img_array"
      ],
      "execution_count": null,
      "outputs": []
    },
    {
      "cell_type": "code",
      "metadata": {
        "id": "aMvBpMUiOvKf"
      },
      "source": [
        "def create_dataset(img_folders,IMG_WIDTH,IMG_HEIGHT, label):\n",
        "    img_data_array=[]\n",
        "    class_name=[]\n",
        "    n=0\n",
        "    for dirname, _, filenames in os.walk(img_folders):\n",
        "        for filename in filenames:\n",
        "            img_path= os.path.join(dirname, filename)\n",
        "            # read the image\n",
        "            image = cv2.imread(img_path)\n",
        "            # BGR is converted to RGB\n",
        "            image = cv2.cvtColor(image, cv2.COLOR_BGR2GRAY)\n",
        "            image = cv2.resize(image, (IMG_WIDTH,IMG_HEIGHT))\n",
        "            \n",
        "            #slice the image into 3 equal parts\n",
        "            images = slice_images(image, IMG_WIDTH, IMG_HEIGHT, 4)\n",
        "              \n",
        "            for image in images:\n",
        "              # convert image to numpy array\n",
        "              image = np.array(image)\n",
        "              image = image.astype('float32')\n",
        "              # normalization\n",
        "              image /= 255\n",
        "              img_data_array.append(image)\n",
        "              class_name.append(label)\n",
        "              n+=1\n",
        "    \n",
        "    print(\"n= %d\",n)\n",
        "                \n",
        "    return img_data_array, class_name, n"
      ],
      "execution_count": null,
      "outputs": []
    },
    {
      "cell_type": "code",
      "metadata": {
        "id": "T912y1zdOvgY"
      },
      "source": [
        "IMG_WIDTH = 800\n",
        "IMG_HEIGHT = 200\n",
        "\n",
        "noncovid_dir = './spectrograms/Spectrograms/(Real) Non-Covid/'\n",
        "covid_dir = './spectrograms/Spectrograms/(Real) Covid/'\n",
        "\n",
        "noncovid_img, noncovid_target, num_noncovid = create_dataset(noncovid_dir, IMG_WIDTH, IMG_HEIGHT, 0)\n",
        "covid_img, covid_target, num_covid = create_dataset(covid_dir, IMG_WIDTH, IMG_HEIGHT, 1)"
      ],
      "execution_count": null,
      "outputs": []
    },
    {
      "cell_type": "code",
      "metadata": {
        "id": "4pA1l8fuOv2L"
      },
      "source": [
        "X = noncovid_img + covid_img\n",
        "y = noncovid_target + covid_target\n",
        "from sklearn.utils import shuffle\n",
        "X, y = shuffle(X, y, random_state=0)"
      ],
      "execution_count": null,
      "outputs": []
    },
    {
      "cell_type": "code",
      "metadata": {
        "id": "Gs-0EK66PLcU"
      },
      "source": [
        "plt.figure(figsize=(40,20))\n",
        "for i in range(6):\n",
        "    ax=plt.subplot(6,1,(i+1))\n",
        "    plt.imshow(X[i])\n",
        "    ax.title.set_text(y[i])"
      ],
      "execution_count": null,
      "outputs": []
    },
    {
      "cell_type": "code",
      "metadata": {
        "id": "uGcssriRPNTS"
      },
      "source": [
        "from sklearn.model_selection import train_test_split\n",
        "\n",
        "X_train, X_test, Y_train, Y_test = train_test_split(X, y, test_size=0.3, stratify=y)\n",
        "X_train, X_valid, Y_train, Y_valid = train_test_split(X_train, Y_train, test_size=0.3, stratify=Y_train)"
      ],
      "execution_count": null,
      "outputs": []
    },
    {
      "cell_type": "code",
      "metadata": {
        "id": "OmCcEImSQvZc"
      },
      "source": [
        "model = tf.keras.Sequential([\n",
        "    tf.keras.layers.Flatten(input_shape=(300, 300)),\n",
        "    tf.keras.layers.Dense(600, activation='sigmoid'),\n",
        "    tf.keras.layers.Dense(2)\n",
        "])"
      ],
      "execution_count": null,
      "outputs": []
    },
    {
      "cell_type": "code",
      "metadata": {
        "id": "Hf4QoSq3S7vI"
      },
      "source": [
        "num_classes = 2\n",
        "\n",
        "model = Sequential([\n",
        "  InputLayer(input_shape=(300, 300)),\n",
        "  LSTM(600, activation='relu'),\n",
        "  Dropout(0.4),\n",
        "  Dense(300, activation='relu'),\n",
        "  Dropout(0.2),\n",
        "  Dense(100,activation='sigmoid'),\n",
        "  Dense(num_classes)\n",
        "])"
      ],
      "execution_count": null,
      "outputs": []
    },
    {
      "cell_type": "code",
      "metadata": {
        "id": "O8i7qxJ_Y51J"
      },
      "source": [
        "X_train[0].shape"
      ],
      "execution_count": null,
      "outputs": []
    },
    {
      "cell_type": "code",
      "metadata": {
        "id": "UxEcqAp6Ye5-"
      },
      "source": [
        "model = keras.Sequential()\n",
        "\n",
        "# Convolutional layer and maxpool layer 1\n",
        "model.add(keras.layers.Conv2D(32,(3,3),activation='relu',input_shape=(200,200,1)))\n",
        "model.add(keras.layers.MaxPool2D(2,2))\n",
        "\n",
        "# Convolutional layer and maxpool layer 2\n",
        "model.add(keras.layers.Conv2D(64,(3,3),activation='relu'))\n",
        "model.add(keras.layers.MaxPool2D(2,2))\n",
        "\n",
        "# Convolutional layer and maxpool layer 3\n",
        "model.add(keras.layers.Conv2D(128,(3,3),activation='relu'))\n",
        "model.add(keras.layers.MaxPool2D(2,2))\n",
        "\n",
        "# Convolutional layer and maxpool layer 4\n",
        "model.add(keras.layers.Conv2D(128,(3,3),activation='relu'))\n",
        "model.add(keras.layers.MaxPool2D(2,2))\n",
        "\n",
        "# This layer flattens the resulting image array to 1D array\n",
        "model.add(keras.layers.Flatten())\n",
        "\n",
        "# Hidden layer with 512 neurons and Rectified Linear Unit activation function \n",
        "model.add(keras.layers.Dense(512,activation='relu'))\n",
        "\n",
        "# Output layer with single neuron which gives 0 for Cat or 1 for Dog \n",
        "#Here we use sigmoid activation function which makes our model output to lie between 0 and 1\n",
        "model.add(keras.layers.Dense(1,activation='sigmoid'))\n",
        "\n",
        "model.compile(optimizer='adam',loss='binary_crossentropy',metrics=['accuracy'])"
      ],
      "execution_count": null,
      "outputs": []
    },
    {
      "cell_type": "code",
      "metadata": {
        "id": "ok4jw67uQ-B9"
      },
      "source": [
        "model.compile(optimizer='adam',\n",
        "              loss = tf.keras.losses.binary_crossentropy,\n",
        "              metrics=['accuracy'])"
      ],
      "execution_count": null,
      "outputs": []
    },
    {
      "cell_type": "code",
      "metadata": {
        "id": "Vje3CabJRw_A"
      },
      "source": [
        "X_train = tf.stack(X_train)\n",
        "Y_train = tf.stack(Y_train)"
      ],
      "execution_count": null,
      "outputs": []
    },
    {
      "cell_type": "code",
      "metadata": {
        "id": "mU49OnvCdBmq"
      },
      "source": [
        "X_valid = tf.stack(X_valid)\n",
        "Y_valid = tf.stack(Y_valid)"
      ],
      "execution_count": null,
      "outputs": []
    },
    {
      "cell_type": "code",
      "metadata": {
        "id": "Fx8qMMf8WCST"
      },
      "source": [
        "X_test = tf.stack(X_test)\n",
        "Y_test = tf.stack(Y_test)"
      ],
      "execution_count": null,
      "outputs": []
    },
    {
      "cell_type": "code",
      "metadata": {
        "id": "4zLWgh0cZNgJ"
      },
      "source": [
        "X_train = tf.expand_dims(X_train,axis= -1)\n",
        "X_test = tf.expand_dims(X_test,axis= -1)"
      ],
      "execution_count": null,
      "outputs": []
    },
    {
      "cell_type": "code",
      "metadata": {
        "id": "WGOMLxSZWfKJ"
      },
      "source": [
        "callback = tf.keras.callbacks.EarlyStopping(monitor='loss', patience=3)"
      ],
      "execution_count": null,
      "outputs": []
    },
    {
      "cell_type": "code",
      "metadata": {
        "id": "utRITuEWRAtK"
      },
      "source": [
        "#hist = model.fit(X_train, Y_train,batch_size=10, epochs=1,callbacks=[callback])"
      ],
      "execution_count": null,
      "outputs": []
    },
    {
      "cell_type": "code",
      "metadata": {
        "id": "2EGvSbrrRe3X"
      },
      "source": [
        "model_layers_img = '/tmp/model_layers_img.png'\n",
        "tf.keras.utils.plot_model(model, to_file=model_layers_img, show_shapes=True)"
      ],
      "execution_count": null,
      "outputs": []
    },
    {
      "cell_type": "code",
      "metadata": {
        "id": "CUVUnHaRpBWQ"
      },
      "source": [
        "history = model.fit(X_train, Y_train,validation_split = 0.2, epochs=3, batch_size=100)\n",
        "plt.plot(history.history['accuracy'])\n",
        "plt.plot(history.history['val_accuracy'])\n",
        "plt.title('model accuracy')\n",
        "plt.ylabel('accuracy')\n",
        "plt.xlabel('epoch')\n",
        "plt.legend(['train', 'val'], loc='upper left')\n",
        "plt.show()\n"
      ],
      "execution_count": null,
      "outputs": []
    }
  ]
}